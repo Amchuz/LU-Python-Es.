{
 "cells": [
  {
   "cell_type": "markdown",
   "metadata": {},
   "source": [
    "# Functions"
   ]
  },
  {
   "cell_type": "code",
   "execution_count": 1,
   "metadata": {},
   "outputs": [
    {
     "name": "stdout",
     "output_type": "stream",
     "text": [
      "Hello All\n"
     ]
    }
   ],
   "source": [
    "def func1():\n",
    "    print(\"Hello All\")\n",
    "func1()"
   ]
  },
  {
   "cell_type": "code",
   "execution_count": 2,
   "metadata": {},
   "outputs": [
    {
     "name": "stdout",
     "output_type": "stream",
     "text": [
      "30\n"
     ]
    }
   ],
   "source": [
    "def func2(a,b):\n",
    "    c=a+b\n",
    "    print(c)\n",
    "func2(10,20)"
   ]
  },
  {
   "cell_type": "code",
   "execution_count": 4,
   "metadata": {},
   "outputs": [
    {
     "name": "stdout",
     "output_type": "stream",
     "text": [
      "50\n"
     ]
    }
   ],
   "source": [
    "def func2(a,b):\n",
    "    c=a+b\n",
    "    return c\n",
    "res = func2(10,20) + 20\n",
    "print(res)"
   ]
  },
  {
   "cell_type": "code",
   "execution_count": 5,
   "metadata": {},
   "outputs": [
    {
     "name": "stdout",
     "output_type": "stream",
     "text": [
      "Prify 22\n"
     ]
    },
    {
     "ename": "TypeError",
     "evalue": "fun1() missing 1 required positional argument: 'age'",
     "output_type": "error",
     "traceback": [
      "\u001b[0;31m---------------------------------------------------------------------------\u001b[0m",
      "\u001b[0;31mTypeError\u001b[0m                                 Traceback (most recent call last)",
      "\u001b[0;32m<ipython-input-5-2af1619afd32>\u001b[0m in \u001b[0;36m<module>\u001b[0;34m\u001b[0m\n\u001b[1;32m      2\u001b[0m     \u001b[0mprint\u001b[0m\u001b[0;34m(\u001b[0m\u001b[0mname\u001b[0m\u001b[0;34m,\u001b[0m\u001b[0mage\u001b[0m\u001b[0;34m)\u001b[0m\u001b[0;34m\u001b[0m\u001b[0;34m\u001b[0m\u001b[0m\n\u001b[1;32m      3\u001b[0m \u001b[0mfun1\u001b[0m\u001b[0;34m(\u001b[0m\u001b[0;34m\"Prify\"\u001b[0m\u001b[0;34m,\u001b[0m\u001b[0;36m22\u001b[0m\u001b[0;34m)\u001b[0m\u001b[0;34m\u001b[0m\u001b[0;34m\u001b[0m\u001b[0m\n\u001b[0;32m----> 4\u001b[0;31m \u001b[0mfun1\u001b[0m\u001b[0;34m(\u001b[0m\u001b[0;34m\"Amchuz\"\u001b[0m\u001b[0;34m)\u001b[0m\u001b[0;34m\u001b[0m\u001b[0;34m\u001b[0m\u001b[0m\n\u001b[0m",
      "\u001b[0;31mTypeError\u001b[0m: fun1() missing 1 required positional argument: 'age'"
     ]
    }
   ],
   "source": [
    "def fun1(name,age):\n",
    "    print(name,age)\n",
    "fun1(\"Prify\",22)\n",
    "fun1(\"Amchuz\")"
   ]
  },
  {
   "cell_type": "code",
   "execution_count": 7,
   "metadata": {},
   "outputs": [
    {
     "name": "stdout",
     "output_type": "stream",
     "text": [
      "Prify 22\n",
      "Amchuz 20\n"
     ]
    }
   ],
   "source": [
    "def fun1(name,age=20):\n",
    "    print(name,age)\n",
    "fun1(\"Prify\",22)\n",
    "fun1(\"Amchuz\")"
   ]
  },
  {
   "cell_type": "code",
   "execution_count": 9,
   "metadata": {},
   "outputs": [
    {
     "name": "stdout",
     "output_type": "stream",
     "text": [
      "Name Age Mark\n",
      "Prify 22 90\n",
      "Amchuz 20 100\n",
      "Ammu 20 60\n"
     ]
    }
   ],
   "source": [
    "def fun1(name,age=20,mark=60):\n",
    "    print(name,age,mark)\n",
    "print(\"Name\",\"Age\",\"Mark\")\n",
    "fun1(\"Prify\",22,90)\n",
    "fun1(\"Amchuz\",mark=100)\n",
    "fun1(\"Ammu\")"
   ]
  },
  {
   "cell_type": "code",
   "execution_count": 12,
   "metadata": {},
   "outputs": [
    {
     "name": "stdout",
     "output_type": "stream",
     "text": [
      "10 ()\n",
      "10 (20,)\n",
      "10 (20, 30, 40, 50, 60)\n"
     ]
    }
   ],
   "source": [
    "def fun1(a,*b):\n",
    "    print(a,b)\n",
    "fun1(10)\n",
    "fun1(10,20)\n",
    "fun1(10,20,30,40,50,60)"
   ]
  },
  {
   "cell_type": "code",
   "execution_count": 14,
   "metadata": {},
   "outputs": [
    {
     "name": "stdout",
     "output_type": "stream",
     "text": [
      "{'name': 'xyz', 'marks': 70} <class 'dict'>\n"
     ]
    }
   ],
   "source": [
    "def fun1(**kwargs):\n",
    "    print(kwargs,type(kwargs))\n",
    "fun1(name=\"xyz\",marks=70)"
   ]
  },
  {
   "cell_type": "code",
   "execution_count": 17,
   "metadata": {},
   "outputs": [
    {
     "name": "stdout",
     "output_type": "stream",
     "text": [
      "3\n",
      "1\n"
     ]
    }
   ],
   "source": [
    "def fun1(a):\n",
    "    a=a+2\n",
    "    print(a)\n",
    "c=1\n",
    "fun1(c)\n",
    "print(c)"
   ]
  },
  {
   "cell_type": "code",
   "execution_count": 18,
   "metadata": {},
   "outputs": [
    {
     "name": "stdout",
     "output_type": "stream",
     "text": [
      "Inside before appending  [2, 5, 6] 140699241526608\n",
      "Inside after appending  [2, 5, 6, 30] 140699241526608\n",
      "After calling  [2, 5, 6, 30] 140699241526608\n"
     ]
    }
   ],
   "source": [
    "def fun2(list1):\n",
    "    print(\"Inside before appending \", list1, id(list1))\n",
    "    list1.append(30)\n",
    "    print(\"Inside after appending \", list1, id(list1))\n",
    "list2=[2,5,6]\n",
    "fun2(list2)\n",
    "print(\"After calling \",list2, id(list2))"
   ]
  },
  {
   "cell_type": "code",
   "execution_count": 19,
   "metadata": {},
   "outputs": [
    {
     "name": "stdout",
     "output_type": "stream",
     "text": [
      "Inside Before  30 94693171594912\n",
      "Inside After  40 94693171595232\n",
      "After  30 94693171594912\n"
     ]
    }
   ],
   "source": [
    "def fun3(a):\n",
    "    print(\"Inside Before \",a, id(a))\n",
    "    a=a+10\n",
    "    print(\"Inside After \",a, id(a))\n",
    "a=30\n",
    "fun3(a)\n",
    "print(\"After \",a, id(a))"
   ]
  },
  {
   "cell_type": "code",
   "execution_count": 22,
   "metadata": {},
   "outputs": [
    {
     "name": "stdout",
     "output_type": "stream",
     "text": [
      "10 94693171594272\n",
      "30\n",
      "10 94693171594272\n"
     ]
    }
   ],
   "source": [
    "def fun1(a):\n",
    "    global k\n",
    "    k=a+20\n",
    "    print(a, id(a))\n",
    "a=10\n",
    "fun1(a)\n",
    "print(k)\n",
    "print(a, id(a))\n"
   ]
  },
  {
   "cell_type": "code",
   "execution_count": null,
   "metadata": {},
   "outputs": [],
   "source": []
  }
 ],
 "metadata": {
  "kernelspec": {
   "display_name": "Python 3",
   "language": "python",
   "name": "python3"
  },
  "language_info": {
   "codemirror_mode": {
    "name": "ipython",
    "version": 3
   },
   "file_extension": ".py",
   "mimetype": "text/x-python",
   "name": "python",
   "nbconvert_exporter": "python",
   "pygments_lexer": "ipython3",
   "version": "3.7.6"
  }
 },
 "nbformat": 4,
 "nbformat_minor": 4
}
